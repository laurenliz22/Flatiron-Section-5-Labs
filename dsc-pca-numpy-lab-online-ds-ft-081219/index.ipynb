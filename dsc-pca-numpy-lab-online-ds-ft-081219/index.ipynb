{
 "cells": [
  {
   "cell_type": "markdown",
   "metadata": {
    "toc": true
   },
   "source": [
    "<h1>Table of Contents<span class=\"tocSkip\"></span></h1>\n",
    "<div class=\"toc\"><ul class=\"toc-item\"><li><span><a href=\"#Performing-Principal-Component-Analysis-(PCA)---Lab\" data-toc-modified-id=\"Performing-Principal-Component-Analysis-(PCA)---Lab-1\"><span class=\"toc-item-num\">1&nbsp;&nbsp;</span>Performing Principal Component Analysis (PCA) - Lab</a></span><ul class=\"toc-item\"><li><span><a href=\"#Introduction\" data-toc-modified-id=\"Introduction-1.1\"><span class=\"toc-item-num\">1.1&nbsp;&nbsp;</span>Introduction</a></span></li><li><span><a href=\"#Objectives\" data-toc-modified-id=\"Objectives-1.2\"><span class=\"toc-item-num\">1.2&nbsp;&nbsp;</span>Objectives</a></span></li><li><span><a href=\"#Import-the-Data\" data-toc-modified-id=\"Import-the-Data-1.3\"><span class=\"toc-item-num\">1.3&nbsp;&nbsp;</span>Import the Data</a></span></li><li><span><a href=\"#Normalize-the-Data\" data-toc-modified-id=\"Normalize-the-Data-1.4\"><span class=\"toc-item-num\">1.4&nbsp;&nbsp;</span>Normalize the Data</a></span></li><li><span><a href=\"#Calculate-the-Covariance-Matrix\" data-toc-modified-id=\"Calculate-the-Covariance-Matrix-1.5\"><span class=\"toc-item-num\">1.5&nbsp;&nbsp;</span>Calculate the Covariance Matrix</a></span></li><li><span><a href=\"#Calculate-the-Eigenvectors\" data-toc-modified-id=\"Calculate-the-Eigenvectors-1.6\"><span class=\"toc-item-num\">1.6&nbsp;&nbsp;</span>Calculate the Eigenvectors</a></span></li><li><span><a href=\"#Sorting-the-Eigenvectors-to-Determine-Primary-Components\" data-toc-modified-id=\"Sorting-the-Eigenvectors-to-Determine-Primary-Components-1.7\"><span class=\"toc-item-num\">1.7&nbsp;&nbsp;</span>Sorting the Eigenvectors to Determine Primary Components</a></span></li><li><span><a href=\"#Reprojecting-the-Data\" data-toc-modified-id=\"Reprojecting-the-Data-1.8\"><span class=\"toc-item-num\">1.8&nbsp;&nbsp;</span>Reprojecting the Data</a></span></li><li><span><a href=\"#Summary\" data-toc-modified-id=\"Summary-1.9\"><span class=\"toc-item-num\">1.9&nbsp;&nbsp;</span>Summary</a></span></li></ul></li></ul></div>"
   ]
  },
  {
   "cell_type": "markdown",
   "metadata": {},
   "source": [
    "# Performing Principal Component Analysis (PCA) - Lab\n",
    "\n",
    "## Introduction\n",
    "\n",
    "Now that you have high level overview of PCA as well as some of the details in the algorithm itself, its time to practice implementing PCA on your own using the NumPy package. \n",
    "\n",
    "## Objectives\n",
    "\n",
    "You will be able to:\n",
    "    \n",
    "* Implement PCA from scratch using NumPy"
   ]
  },
  {
   "cell_type": "markdown",
   "metadata": {},
   "source": [
    "## Import the Data\n",
    "\n",
    "To start, import the data stored in the file 'foodusa.csv'."
   ]
  },
  {
   "cell_type": "code",
   "execution_count": 6,
   "metadata": {
    "ExecuteTime": {
     "end_time": "2019-11-12T16:39:25.637496Z",
     "start_time": "2019-11-12T16:39:25.623961Z"
    }
   },
   "outputs": [],
   "source": [
    "#Your code here\n",
    "import pandas as pd\n",
    "data = pd.read_csv('foodusa.csv')\n",
    "data.head()\n",
    "data.drop('City', axis=1, inplace=True)"
   ]
  },
  {
   "cell_type": "markdown",
   "metadata": {},
   "source": [
    "## Normalize the Data\n",
    "\n",
    "Next, normalize your data by subtracting the feature mean from each of the columns"
   ]
  },
  {
   "cell_type": "code",
   "execution_count": 7,
   "metadata": {
    "ExecuteTime": {
     "end_time": "2019-11-12T16:39:27.372355Z",
     "start_time": "2019-11-12T16:39:27.345594Z"
    }
   },
   "outputs": [
    {
     "data": {
      "text/html": [
       "<div>\n",
       "<style scoped>\n",
       "    .dataframe tbody tr th:only-of-type {\n",
       "        vertical-align: middle;\n",
       "    }\n",
       "\n",
       "    .dataframe tbody tr th {\n",
       "        vertical-align: top;\n",
       "    }\n",
       "\n",
       "    .dataframe thead th {\n",
       "        text-align: right;\n",
       "    }\n",
       "</style>\n",
       "<table border=\"1\" class=\"dataframe\">\n",
       "  <thead>\n",
       "    <tr style=\"text-align: right;\">\n",
       "      <th></th>\n",
       "      <th>Bread</th>\n",
       "      <th>Burger</th>\n",
       "      <th>Milk</th>\n",
       "      <th>Oranges</th>\n",
       "      <th>Tomatoes</th>\n",
       "    </tr>\n",
       "  </thead>\n",
       "  <tbody>\n",
       "    <tr>\n",
       "      <th>0</th>\n",
       "      <td>-0.791304</td>\n",
       "      <td>2.643478</td>\n",
       "      <td>11.604348</td>\n",
       "      <td>-22.891304</td>\n",
       "      <td>-7.165217</td>\n",
       "    </tr>\n",
       "    <tr>\n",
       "      <th>1</th>\n",
       "      <td>1.208696</td>\n",
       "      <td>-0.856522</td>\n",
       "      <td>5.204348</td>\n",
       "      <td>-28.391304</td>\n",
       "      <td>4.534783</td>\n",
       "    </tr>\n",
       "    <tr>\n",
       "      <th>2</th>\n",
       "      <td>4.408696</td>\n",
       "      <td>8.943478</td>\n",
       "      <td>-0.895652</td>\n",
       "      <td>1.008696</td>\n",
       "      <td>10.834783</td>\n",
       "    </tr>\n",
       "    <tr>\n",
       "      <th>3</th>\n",
       "      <td>-2.491304</td>\n",
       "      <td>-5.256522</td>\n",
       "      <td>3.004348</td>\n",
       "      <td>15.408696</td>\n",
       "      <td>2.434783</td>\n",
       "    </tr>\n",
       "    <tr>\n",
       "      <th>4</th>\n",
       "      <td>1.408696</td>\n",
       "      <td>-5.156522</td>\n",
       "      <td>0.404348</td>\n",
       "      <td>2.908696</td>\n",
       "      <td>2.434783</td>\n",
       "    </tr>\n",
       "  </tbody>\n",
       "</table>\n",
       "</div>"
      ],
      "text/plain": [
       "      Bread    Burger       Milk    Oranges   Tomatoes\n",
       "0 -0.791304  2.643478  11.604348 -22.891304  -7.165217\n",
       "1  1.208696 -0.856522   5.204348 -28.391304   4.534783\n",
       "2  4.408696  8.943478  -0.895652   1.008696  10.834783\n",
       "3 -2.491304 -5.256522   3.004348  15.408696   2.434783\n",
       "4  1.408696 -5.156522   0.404348   2.908696   2.434783"
      ]
     },
     "execution_count": 7,
     "metadata": {},
     "output_type": "execute_result"
    }
   ],
   "source": [
    "#Your code here\n",
    "mean_centered = data - data.mean()\n",
    "mean_centered.head()"
   ]
  },
  {
   "cell_type": "markdown",
   "metadata": {},
   "source": [
    "## Calculate the Covariance Matrix\n",
    "\n",
    "The next step for PCA is to calculate to covariance matrix for your normalized data. Do so here."
   ]
  },
  {
   "cell_type": "code",
   "execution_count": 8,
   "metadata": {
    "ExecuteTime": {
     "end_time": "2019-11-12T16:40:36.461760Z",
     "start_time": "2019-11-12T16:40:36.443414Z"
    }
   },
   "outputs": [
    {
     "data": {
      "text/plain": [
       "array([[  6.2844664 ,  12.91096838,   5.71905138,   1.31037549,\n",
       "          7.28513834],\n",
       "       [ 12.91096838,  57.07711462,  17.50752964,  22.69187747,\n",
       "         36.29478261],\n",
       "       [  5.71905138,  17.50752964,  48.30588933,  -0.27503953,\n",
       "         13.44347826],\n",
       "       [  1.31037549,  22.69187747,  -0.27503953, 202.75628458,\n",
       "         38.76241107],\n",
       "       [  7.28513834,  36.29478261,  13.44347826,  38.76241107,\n",
       "         57.80055336]])"
      ]
     },
     "execution_count": 8,
     "metadata": {},
     "output_type": "execute_result"
    }
   ],
   "source": [
    "#Your code here\n",
    "import numpy as np\n",
    "cov = np.cov([mean_centered.Bread, mean_centered.Burger, mean_centered.Milk, \n",
    "             mean_centered.Oranges, mean_centered.Tomatoes])\n",
    "cov"
   ]
  },
  {
   "cell_type": "markdown",
   "metadata": {},
   "source": [
    "## Calculate the Eigenvectors\n",
    "\n",
    "Next, calculate the eigenvectors for your covariance matrix."
   ]
  },
  {
   "cell_type": "code",
   "execution_count": 12,
   "metadata": {
    "ExecuteTime": {
     "end_time": "2019-11-12T16:42:02.602175Z",
     "start_time": "2019-11-12T16:42:02.591575Z"
    }
   },
   "outputs": [
    {
     "name": "stdout",
     "output_type": "stream",
     "text": [
      "Eigen Value: [218.99867893  91.72316894   3.02922934  20.81054128  37.66268981]\n",
      "\n",
      " Eigen Vector: [[-0.02848905 -0.16532108 -0.96716354 -0.18972574  0.02135748]\n",
      " [-0.2001224  -0.63218494  0.24877074 -0.65862454  0.25420475]\n",
      " [-0.0416723  -0.44215032  0.03606094  0.10765906 -0.88874949]\n",
      " [-0.93885906  0.31435473 -0.01521357 -0.06904699 -0.12135003]\n",
      " [-0.27558389 -0.52791603 -0.03429221  0.71684022  0.36100184]]\n"
     ]
    }
   ],
   "source": [
    "#Your code here\n",
    "eigen_value, eigen_vector = np.linalg.eig(cov)\n",
    "print('Eigen Value:',eigen_value)\n",
    "print('\\n Eigen Vector:',eigen_vector)"
   ]
  },
  {
   "cell_type": "markdown",
   "metadata": {},
   "source": [
    "## Sorting the Eigenvectors to Determine Primary Components\n",
    "\n",
    "Great! Now that you have the eigenvectors and their associated eigenvalues, sort the eigenvectors based on their eigenvalues!"
   ]
  },
  {
   "cell_type": "code",
   "execution_count": 15,
   "metadata": {
    "ExecuteTime": {
     "end_time": "2019-11-12T16:43:46.192218Z",
     "start_time": "2019-11-12T16:43:46.184252Z"
    }
   },
   "outputs": [
    {
     "data": {
      "text/plain": [
       "array([0, 1, 4, 3, 2])"
      ]
     },
     "execution_count": 15,
     "metadata": {},
     "output_type": "execute_result"
    }
   ],
   "source": [
    "#Your code here\n",
    "e_indices = np.argsort(eigen_value)[::-1]\n",
    "e_indices"
   ]
  },
  {
   "cell_type": "code",
   "execution_count": 16,
   "metadata": {
    "ExecuteTime": {
     "end_time": "2019-11-12T16:43:47.258511Z",
     "start_time": "2019-11-12T16:43:47.247832Z"
    }
   },
   "outputs": [
    {
     "data": {
      "text/plain": [
       "array([[-0.02848905, -0.16532108,  0.02135748, -0.18972574, -0.96716354],\n",
       "       [-0.2001224 , -0.63218494,  0.25420475, -0.65862454,  0.24877074],\n",
       "       [-0.0416723 , -0.44215032, -0.88874949,  0.10765906,  0.03606094],\n",
       "       [-0.93885906,  0.31435473, -0.12135003, -0.06904699, -0.01521357],\n",
       "       [-0.27558389, -0.52791603,  0.36100184,  0.71684022, -0.03429221]])"
      ]
     },
     "execution_count": 16,
     "metadata": {},
     "output_type": "execute_result"
    }
   ],
   "source": [
    "eigenvectors_sorted=eigen_vector[:,e_indices]\n",
    "eigenvectors_sorted"
   ]
  },
  {
   "cell_type": "markdown",
   "metadata": {},
   "source": [
    "## Reprojecting the Data\n",
    "\n",
    "Finally, reproject the dataset using your eigenvectors. Reproject the dataset down to 2 dimensions."
   ]
  },
  {
   "cell_type": "code",
   "execution_count": 18,
   "metadata": {
    "ExecuteTime": {
     "end_time": "2019-11-12T16:45:15.120435Z",
     "start_time": "2019-11-12T16:45:15.108982Z"
    }
   },
   "outputs": [
    {
     "data": {
      "text/plain": [
       "array([[-0.02848905, -0.16532108,  0.02135748, -0.18972574, -0.96716354],\n",
       "       [-0.2001224 , -0.63218494,  0.25420475, -0.65862454,  0.24877074]])"
      ]
     },
     "execution_count": 18,
     "metadata": {},
     "output_type": "execute_result"
    }
   ],
   "source": [
    "#Your code here\n",
    "eigenvectors_sorted[:2]"
   ]
  },
  {
   "cell_type": "markdown",
   "metadata": {},
   "source": [
    "## Summary\n",
    "\n",
    "Well done! You've now coded PCA on your own using NumPy! With that, it's time to look at further application of PCA."
   ]
  }
 ],
 "metadata": {
  "kernelspec": {
   "display_name": "Python 3",
   "language": "python",
   "name": "python3"
  },
  "language_info": {
   "codemirror_mode": {
    "name": "ipython",
    "version": 3
   },
   "file_extension": ".py",
   "mimetype": "text/x-python",
   "name": "python",
   "nbconvert_exporter": "python",
   "pygments_lexer": "ipython3",
   "version": "3.6.6"
  },
  "toc": {
   "base_numbering": 1,
   "nav_menu": {},
   "number_sections": true,
   "sideBar": true,
   "skip_h1_title": false,
   "title_cell": "Table of Contents",
   "title_sidebar": "Contents",
   "toc_cell": true,
   "toc_position": {},
   "toc_section_display": true,
   "toc_window_display": false
  }
 },
 "nbformat": 4,
 "nbformat_minor": 2
}
